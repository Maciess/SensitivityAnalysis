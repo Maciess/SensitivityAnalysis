{
 "cells": [
  {
   "cell_type": "code",
   "execution_count": 1,
   "id": "798e76de-536d-403e-b6a7-81554af353ec",
   "metadata": {},
   "outputs": [],
   "source": [
    "import minterpy as mp\n",
    "import numpy as np\n",
    "import numpy.linalg as la\n",
    "from scipy.special import eval_legendre\n",
    "import matplotlib.pyplot as plt"
   ]
  },
  {
   "cell_type": "code",
   "execution_count": 10,
   "id": "cf8e419b-3ce1-440b-8cea-5ee206a1b291",
   "metadata": {},
   "outputs": [],
   "source": [
    "def get_legendre_for_multiindex(mi):\n",
    "    def l(xx):\n",
    "        return np.prod([eval_legendre(mi[i], xx[i]) for i in range(mi.shape[0])])"
   ]
  },
  {
   "cell_type": "code",
   "execution_count": 9,
   "id": "1a4604d2-c046-4d1f-9271-4c4610b37eeb",
   "metadata": {},
   "outputs": [
    {
     "data": {
      "text/plain": [
       "3"
      ]
     },
     "execution_count": 9,
     "metadata": {},
     "output_type": "execute_result"
    }
   ],
   "source": [
    "def legendre_coeffs(f, spatial_dimension=6, poly_degree=5, lp_degree=np.inf):\n",
    "    \n",
    "    mi = mp.MultiIndexSet.from_degree(\n",
    "        spatial_dimension=spatial_dimension,\n",
    "        poly_degree=poly_degree,\n",
    "        lp_degree=lp_degree\n",
    "    )\n",
    "\n",
    "    grd = mp.Grid(mi)\n",
    "    P = grd.unisolvent_nodes\n",
    "\n",
    "    L = [get_legendre_for_multiindex(m) for m in mi]\n",
    "    A = np.array([[L[i](p) for ]])\n"
   ]
  },
  {
   "cell_type": "code",
   "execution_count": 2,
   "id": "e19c8c19-1aa0-4c65-87f0-8b70bfb4a494",
   "metadata": {},
   "outputs": [
    {
     "data": {
      "text/plain": [
       "array([8.64554243])"
      ]
     },
     "execution_count": 2,
     "metadata": {},
     "output_type": "execute_result"
    }
   ],
   "source": [
    "import numpy as np\n",
    "\n",
    "\n",
    "domain = np.array([\n",
    "    [50, 150],\n",
    "    [25, 70],\n",
    "    [0.5, 3],\n",
    "    [1.2, 2.5],\n",
    "    [0.25, 1.2],\n",
    "    [50, 300],\n",
    "])\n",
    "\n",
    "\n",
    "def otl(Rb1, Rb2, Rf, Rc1, Rc2, beta):\n",
    "\n",
    "    Vb1 = 12 * Rb2 / (Rb1 + Rb2)\n",
    "    \n",
    "    bR9 = beta * (Rc2 + 9)\n",
    "    \n",
    "    w1 = 0.74\n",
    "    w2 = 11.35\n",
    "    \n",
    "    s1 = (Vb1 + w1) * bR9 / (bR9 + Rf)\n",
    "    s2 = w2 * Rf / (bR9 + Rf)\n",
    "    s3 = w1 * Rf * bR9 / ((bR9 + Rf) * Rc1)\n",
    "    \n",
    "    return s1 + s2 + s3\n",
    "\n",
    "\n",
    "def otl_normalized(xx):\n",
    "    params = [translate_interval(domain[i][0], domain[i][1], xx[:,i]) for i in range(domain.shape[0])]\n",
    "    return otl(*params)\n",
    "    \n",
    "    \n",
    "def translate_interval(a, b, xx):\n",
    "    avg = (a + b) / 2\n",
    "    scale = b - avg\n",
    "    \n",
    "    return xx * scale + avg\n",
    "\n",
    "otl_normalized(np.array([[-1, 1, 1, 1, -1, -1]]))\n"
   ]
  },
  {
   "cell_type": "code",
   "execution_count": 3,
   "id": "428e15a4-19db-413d-8241-5407a03ed71d",
   "metadata": {},
   "outputs": [],
   "source": [
    "def get_nwt_interpolant(f, spatial_dimension=6, poly_degree=8, lp_degree=1.0):\n",
    "    \n",
    "    mi = mp.MultiIndexSet.from_degree(\n",
    "        spatial_dimension=spatial_dimension,\n",
    "        poly_degree=poly_degree,\n",
    "        lp_degree=lp_degree\n",
    "    )\n",
    "\n",
    "    grd = mp.Grid(mi)\n",
    "    lag_coeffs = f(grd.unisolvent_nodes)\n",
    "\n",
    "    lag_poly = mp.LagrangePolynomial(\n",
    "        multi_index=mi,\n",
    "        coeffs=lag_coeffs,\n",
    "    )\n",
    "    \n",
    "    return mp.LagrangeToNewton(lag_poly)()\n"
   ]
  },
  {
   "cell_type": "code",
   "execution_count": 4,
   "id": "570b4c3c-39c2-4b91-a28e-6a72512fa5bc",
   "metadata": {},
   "outputs": [],
   "source": [
    "def dgsm(nwt_poly, i, variance, spatial_dimension=6):\n",
    "    nwt_diff = nwt_poly.partial_diff(i)\n",
    "    const_mult = np.square(2 / np.pi) / variance\n",
    "    vi = (nwt_diff * nwt_diff).integrate_over() * const_mult * np.power(1/2, spatial_dimension)\n",
    "    return vi\n"
   ]
  },
  {
   "cell_type": "code",
   "execution_count": 5,
   "id": "6683e965-1ef6-4229-9003-2e43e58d25ef",
   "metadata": {},
   "outputs": [],
   "source": [
    "def compute_dgsm(nwt_poly, variance):\n",
    "    spatial_dimension = domain.shape[0]\n",
    "    dgsm_vals = np.zeros(spatial_dimension, dtype=np.float64)\n",
    "    for i in range(spatial_dimension):\n",
    "        dgsm_vals[i] = dgsm(nwt_poly, i, variance)\n",
    "        \n",
    "    return dgsm_vals\n",
    "    "
   ]
  },
  {
   "cell_type": "code",
   "execution_count": 36,
   "id": "ef679ab9-dc3d-40ec-b325-51c27c46ec56",
   "metadata": {},
   "outputs": [],
   "source": [
    "variance_value = 1.2"
   ]
  },
  {
   "cell_type": "code",
   "execution_count": 34,
   "id": "14b968ae-0ef4-4a11-b37a-aadee7544eb7",
   "metadata": {},
   "outputs": [],
   "source": [
    "nwt_poly = get_nwt_interpolant(otl_normalized, spatial_dimension=domain.shape[0], poly_degree=8, lp_degree=1)"
   ]
  },
  {
   "cell_type": "code",
   "execution_count": 34,
   "id": "3527009e-c2d0-4965-9515-8c69e83d02e8",
   "metadata": {},
   "outputs": [],
   "source": [
    "nwt_diff = nwt_poly.partial_diff(0)"
   ]
  },
  {
   "cell_type": "code",
   "execution_count": 35,
   "id": "651d3351-58b2-428c-b05f-728557b48ee5",
   "metadata": {},
   "outputs": [],
   "source": [
    "nwt_square = nwt_diff * nwt_diff"
   ]
  },
  {
   "cell_type": "code",
   "execution_count": 39,
   "id": "ea68ed5d-e89e-4004-b4a3-d68cdc08f4d5",
   "metadata": {},
   "outputs": [
    {
     "data": {
      "text/plain": [
       "<minterpy.polynomials.newton_polynomial.NewtonPolynomial at 0x1e3af6ed340>"
      ]
     },
     "execution_count": 39,
     "metadata": {},
     "output_type": "execute_result"
    }
   ],
   "source": [
    "nwt_square * 5"
   ]
  },
  {
   "cell_type": "code",
   "execution_count": 36,
   "id": "b74166bd-6d6c-416b-9777-35ef4cda6f81",
   "metadata": {},
   "outputs": [
    {
     "data": {
      "text/plain": [
       "157.2865723212685"
      ]
     },
     "execution_count": 36,
     "metadata": {},
     "output_type": "execute_result"
    }
   ],
   "source": [
    "nwt_square.integrate_over()"
   ]
  },
  {
   "cell_type": "code",
   "execution_count": 37,
   "id": "8d707693-0fa8-44ac-add5-18cf925cbf52",
   "metadata": {},
   "outputs": [
    {
     "data": {
      "text/plain": [
       "array([8.29327745e-01, 5.75450533e-01, 9.80001460e-02, 3.68300555e-02,\n",
       "       6.86276728e-08, 7.11587471e-05])"
      ]
     },
     "execution_count": 37,
     "metadata": {},
     "output_type": "execute_result"
    }
   ],
   "source": [
    "D = compute_dgsm(nwt_poly, variance_value)\n",
    "D"
   ]
  },
  {
   "cell_type": "code",
   "execution_count": 40,
   "id": "fb504e47-ced7-463a-9a5e-7895cfbab036",
   "metadata": {},
   "outputs": [
    {
     "data": {
      "image/png": "[encoded data removed]",
      "text/plain": [
       "<Figure size 640x480 with 1 Axes>"
      ]
     },
     "metadata": {},
     "output_type": "display_data"
    }
   ],
   "source": [
    "plt.bar([\"R_b1\", \"R_b2\", \"R_f\", \"R_c1\", \"R_c2\", \"beta\"], D)\n",
    "plt.ylabel(\"DGSM\")\n",
    "plt.xlabel(\"OTL parameters\")\n",
    "plt.yscale(\"log\")\n",
    "plt.show()"
   ]
  },
  {
   "cell_type": "code",
   "execution_count": 68,
   "id": "d591d320-3b92-437a-979f-44cea5f0e0f4",
   "metadata": {},
   "outputs": [
    {
     "data": {
      "text/plain": [
       "(3003, 6)"
      ]
     },
     "execution_count": 68,
     "metadata": {},
     "output_type": "execute_result"
    }
   ],
   "source": [
    "mi = mp.MultiIndexSet.from_degree(\n",
    "    spatial_dimension=6,\n",
    "    poly_degree=8,\n",
    "    lp_degree=1.0\n",
    ")\n",
    "\n",
    "mi.exponents.shape"
   ]
  },
  {
   "cell_type": "code",
   "execution_count": 4,
   "id": "ab384ee1-6b1f-4955-ab50-73e0174b8856",
   "metadata": {},
   "outputs": [],
   "source": [
    "def get_asbm_c_matrix(nwt_poly, spatial_dimension=6):\n",
    "    gradient = [nwt_poly.partial_diff(i) for i in range(spatial_dimension)]\n",
    "    C = np.zeros((spatial_dimension, spatial_dimension), dtype=np.float64)\n",
    "    for i in range(spatial_dimension):\n",
    "        for j in range(i, spatial_dimension):\n",
    "            C[i,j] = (gradient[i] * gradient[j]).integrate_over() * np.power(1/2, spatial_dimension)\n",
    "            print(f\"{i}, {j}\")\n",
    "    return C"
   ]
  },
  {
   "cell_type": "code",
   "execution_count": 5,
   "id": "c6879c3e-2527-4a8e-aa8e-5ceb475a9dba",
   "metadata": {},
   "outputs": [],
   "source": [
    "def get_asbm_eigendecomposition(C):\n",
    "    v, w = la.eigh(C, UPLO=\"U\")\n",
    "    return v, w"
   ]
  },
  {
   "cell_type": "code",
   "execution_count": 29,
   "id": "014ef20e-f389-468a-8037-346cf7744131",
   "metadata": {},
   "outputs": [],
   "source": [
    "def runge(xx):\n",
    "    return 1 / (1 + 25 * np.square(la.norm(xx, axis=1)))"
   ]
  },
  {
   "cell_type": "code",
   "execution_count": 40,
   "id": "d047f0d1-3ee3-42ed-9372-eefdcaf6ae4b",
   "metadata": {},
   "outputs": [],
   "source": [
    "def sum_coord(xx):\n",
    "    return np.sum(xx, axis=1)"
   ]
  },
  {
   "cell_type": "code",
   "execution_count": 49,
   "id": "0530344c-f6e7-4f59-8146-939f2e007dc3",
   "metadata": {},
   "outputs": [],
   "source": [
    "nwt_poly_asbm = get_nwt_interpolant(otl_normalized, domain.shape[0], 4, 2.0)"
   ]
  },
  {
   "cell_type": "code",
   "execution_count": 51,
   "id": "5b45ccf8-c5e1-4bc4-818c-57c148afcf85",
   "metadata": {},
   "outputs": [],
   "source": [
    "runge_asbm = get_nwt_interpolant(runge, domain.shape[0], 4, 2.0)"
   ]
  },
  {
   "cell_type": "code",
   "execution_count": 41,
   "id": "615882f1-7336-4638-b1a8-7b66c2a75d61",
   "metadata": {},
   "outputs": [],
   "source": [
    "sum_asbm = get_nwt_interpolant(sum_coord, domain.shape[0], 4, 2.0)"
   ]
  },
  {
   "cell_type": "code",
   "execution_count": 52,
   "id": "1c0e9b43-b658-4fd0-99d3-fdc8e9bd4d00",
   "metadata": {},
   "outputs": [
    {
     "name": "stdout",
     "output_type": "stream",
     "text": [
      "0, 0\n",
      "0, 1\n",
      "0, 2\n",
      "0, 3\n",
      "0, 4\n",
      "0, 5\n",
      "1, 1\n",
      "1, 2\n",
      "1, 3\n",
      "1, 4\n",
      "1, 5\n",
      "2, 2\n",
      "2, 3\n",
      "2, 4\n",
      "2, 5\n",
      "3, 3\n",
      "3, 4\n",
      "3, 5\n",
      "4, 4\n",
      "4, 5\n",
      "5, 5\n"
     ]
    }
   ],
   "source": [
    "Cr = get_asbm_c_matrix(runge_asbm, domain.shape[0])"
   ]
  },
  {
   "cell_type": "code",
   "execution_count": 53,
   "id": "2030bba1-283b-497e-a8fb-9053805f67da",
   "metadata": {},
   "outputs": [
    {
     "name": "stdout",
     "output_type": "stream",
     "text": [
      "0, 0\n",
      "0, 1\n",
      "0, 2\n",
      "0, 3\n",
      "0, 4\n",
      "0, 5\n",
      "1, 1\n",
      "1, 2\n",
      "1, 3\n",
      "1, 4\n",
      "1, 5\n",
      "2, 2\n",
      "2, 3\n",
      "2, 4\n",
      "2, 5\n",
      "3, 3\n",
      "3, 4\n",
      "3, 5\n",
      "4, 4\n",
      "4, 5\n",
      "5, 5\n"
     ]
    }
   ],
   "source": [
    "Cs = get_asbm_c_matrix(sum_asbm, domain.shape[0])"
   ]
  },
  {
   "cell_type": "code",
   "execution_count": 56,
   "id": "82abfbc3-1bf7-44da-bfae-b58e6ce5e395",
   "metadata": {},
   "outputs": [
    {
     "data": {
      "text/plain": [
       "(array([-1.52035686e-15, -5.66948791e-16, -3.54789755e-16, -1.63653977e-16,\n",
       "         9.75769311e-16,  6.00000000e+00]),\n",
       " array([[ 0.00758012,  0.24854197, -0.11344291,  0.7789214 ,  0.38976265,\n",
       "          0.40824829],\n",
       "        [ 0.40253907,  0.06436962, -0.69774084, -0.13933255, -0.40111887,\n",
       "          0.40824829],\n",
       "        [-0.30243764,  0.01811427, -0.18410493, -0.5584282 ,  0.62912638,\n",
       "          0.40824829],\n",
       "        [-0.09064842,  0.66256064,  0.48304331, -0.1807082 , -0.34661694,\n",
       "          0.40824829],\n",
       "        [-0.61600077, -0.52089371,  0.03044004,  0.16026252, -0.39488664,\n",
       "          0.40824829],\n",
       "        [ 0.59896764, -0.47269278,  0.48180532, -0.06071497,  0.12373342,\n",
       "          0.40824829]]))"
      ]
     },
     "execution_count": 56,
     "metadata": {},
     "output_type": "execute_result"
    }
   ],
   "source": [
    "get_asbm_eigendecomposition(Cs)"
   ]
  },
  {
   "cell_type": "code",
   "execution_count": 59,
   "id": "53a0a439-3e94-4438-94d0-06fecb79e748",
   "metadata": {},
   "outputs": [
    {
     "data": {
      "text/plain": [
       "(array([0.00015445, 0.00015445, 0.00015445, 0.00015445, 0.00015445,\n",
       "        0.00015446]),\n",
       " array([[ 0.18184815, -0.18606161,  0.07403968,  0.16697199, -0.85573602,\n",
       "         -0.40824829],\n",
       "        [-0.12843358,  0.14848054, -0.3314772 , -0.71195681, -0.42193843,\n",
       "          0.40824829],\n",
       "        [ 0.00731175,  0.56643884, -0.69206035,  0.17663472,  0.04774474,\n",
       "         -0.40824829],\n",
       "        [-0.20984413, -0.51151549, -0.54756261,  0.46989206, -0.08382911,\n",
       "          0.40824829],\n",
       "        [ 0.35565702, -0.57725746, -0.31998667, -0.43728979,  0.2828452 ,\n",
       "         -0.40824829],\n",
       "        [ 0.88309463,  0.16615471, -0.05896753,  0.14838168, -0.01937853,\n",
       "          0.40824829]]))"
      ]
     },
     "execution_count": 59,
     "metadata": {},
     "output_type": "execute_result"
    }
   ],
   "source": [
    "vr, wr = get_asbm_eigendecomposition(Cr)\n",
    "vr, wr"
   ]
  },
  {
   "cell_type": "code",
   "execution_count": 60,
   "id": "eaf5bc87-01c4-4998-bde1-8c3f6a6491cd",
   "metadata": {},
   "outputs": [
    {
     "data": {
      "image/png": "[encoded data removed]",
      "text/plain": [
       "<Figure size 640x480 with 1 Axes>"
      ]
     },
     "metadata": {},
     "output_type": "display_data"
    }
   ],
   "source": [
    "plt.plot(range(1, 7), np.flip(vr))\n",
    "plt.ylim((0, 2e-4))\n",
    "plt.xlabel(\"Eigenvalue index\")\n",
    "plt.ylabel(\"λ\")\n",
    "plt.title(\"Eigenvalues for 6d Runge function\")\n",
    "plt.savefig(\"eigenvals-runge.png\")"
   ]
  },
  {
   "cell_type": "code",
   "execution_count": 58,
   "id": "0885af9f-ce22-4212-b806-d2b669cbf0b7",
   "metadata": {},
   "outputs": [
    {
     "name": "stdout",
     "output_type": "stream",
     "text": [
      "0, 0\n",
      "0, 1\n",
      "0, 2\n",
      "0, 3\n",
      "0, 4\n",
      "0, 5\n",
      "1, 1\n",
      "1, 2\n",
      "1, 3\n",
      "1, 4\n",
      "1, 5\n",
      "2, 2\n",
      "2, 3\n",
      "2, 4\n",
      "2, 5\n",
      "3, 3\n",
      "3, 4\n",
      "3, 5\n",
      "4, 4\n",
      "4, 5\n",
      "5, 5\n"
     ]
    }
   ],
   "source": [
    "C = get_asbm_c_matrix(nwt_poly_asbm, domain.shape[0])"
   ]
  },
  {
   "cell_type": "code",
   "execution_count": 61,
   "id": "eca416da-7fcd-4409-a143-3e522823732a",
   "metadata": {},
   "outputs": [],
   "source": [
    "v, w = get_asbm_eigendecomposition(C)"
   ]
  },
  {
   "cell_type": "code",
   "execution_count": 62,
   "id": "fd432955-e55c-4e11-a1b7-a6d874542b68",
   "metadata": {},
   "outputs": [
    {
     "data": {
      "image/png": "[encoded data removed]",
      "text/plain": [
       "<Figure size 640x480 with 1 Axes>"
      ]
     },
     "metadata": {},
     "output_type": "display_data"
    }
   ],
   "source": [
    "plt.plot(range(1, 7), np.flip(v))\n",
    "plt.xlabel(\"Eigenvalue index\")\n",
    "plt.ylabel(\"λ\")\n",
    "plt.savefig(\"eigenvals.png\")"
   ]
  },
  {
   "cell_type": "code",
   "execution_count": 63,
   "id": "cb4b2bb6-9e0c-4fe2-a940-1ce048591047",
   "metadata": {},
   "outputs": [],
   "source": [
    "def asbm(v, w, i, k):\n",
    "    d = v.shape[0]\n",
    "    return np.sum([\n",
    "        v[j] * np.square(w[i, j])\n",
    "        for j in range(d - k, d)\n",
    "    ])"
   ]
  },
  {
   "cell_type": "code",
   "execution_count": 64,
   "id": "0cbf4d01-6684-4aa2-8cff-f778e825cb62",
   "metadata": {},
   "outputs": [],
   "source": [
    "def compute_asbm(nwt_poly):\n",
    "    spatial_dimension = domain.shape[0]\n",
    "    C = get_asbm_c_matrix(nwt_poly, spatial_dimension)\n",
    "    v, w = get_asbm_eigendecomposition(C)\n",
    "    asbm_values = np.zeros(spatial_dimension, dtype=np.float64)\n",
    "    for i in range(spatial_dimension):\n",
    "        asbm_values[i] = asbm(v, w, i, 1)\n",
    "    return asbm_values"
   ]
  },
  {
   "cell_type": "code",
   "execution_count": 65,
   "id": "ba6e371a-1a06-4165-bb27-1e4a0dc0e15c",
   "metadata": {},
   "outputs": [
    {
     "data": {
      "text/plain": [
       "array([2.38054355e+00, 1.60943116e+00, 2.63008641e-01, 7.51614780e-02,\n",
       "       1.33774355e-07, 6.54607258e-05])"
      ]
     },
     "execution_count": 65,
     "metadata": {},
     "output_type": "execute_result"
    }
   ],
   "source": [
    "asbm_values = np.zeros(domain.shape[0], dtype=np.float64)\n",
    "for i in range(domain.shape[0]):\n",
    "    asbm_values[i] = asbm(v, w, i, 1)\n",
    "asbm_values"
   ]
  },
  {
   "cell_type": "code",
   "execution_count": 66,
   "id": "c0c58fa9-1deb-4f13-a5b8-3d279809a5c9",
   "metadata": {},
   "outputs": [
    {
     "data": {
      "image/png": "[encoded data removed]",
      "text/plain": [
       "<Figure size 640x480 with 1 Axes>"
      ]
     },
     "metadata": {},
     "output_type": "display_data"
    }
   ],
   "source": [
    "plt.bar([\"R_b1\", \"R_b2\", \"R_f\", \"R_c1\", \"R_c2\", \"beta\"], asbm_values)\n",
    "plt.ylabel(\"Active-subspace-based measures (log)\")\n",
    "plt.xlabel(\"OTL parameters\")\n",
    "plt.yscale(\"log\")\n",
    "plt.savefig(\"asbm-plot-log.png\")"
   ]
  },
  {
   "cell_type": "code",
   "execution_count": 67,
   "id": "52d84214-001a-4b7d-b506-7f7f6573fe4e",
   "metadata": {},
   "outputs": [
    {
     "data": {
      "image/png": "[encoded data removed]",
      "text/plain": [
       "<Figure size 640x480 with 1 Axes>"
      ]
     },
     "metadata": {},
     "output_type": "display_data"
    }
   ],
   "source": [
    "import numpy.random as npr\n",
    "\n",
    "sample = npr.uniform(-1, 1, (1000, 6))\n",
    "w1 = w[:,5]\n",
    "proj = np.apply_along_axis(lambda x, ww=w1: np.dot(x, ww), axis=1, arr=sample)\n",
    "\n",
    "plt.scatter(proj, otl_normalized(sample))\n",
    "plt.xlabel(\"Sample projection on w1\")\n",
    "plt.ylabel(\"OTL value\")\n",
    "plt.savefig(\"scatter.png\")"
   ]
  }
 ],
 "metadata": {
  "kernelspec": {
   "display_name": "Python 3 (ipykernel)",
   "language": "python",
   "name": "python3"
  },
  "language_info": {
   "codemirror_mode": {
    "name": "ipython",
    "version": 3
   },
   "file_extension": ".py",
   "mimetype": "text/x-python",
   "name": "python",
   "nbconvert_exporter": "python",
   "pygments_lexer": "ipython3",
   "version": "3.9.19"
  }
 },
 "nbformat": 4,
 "nbformat_minor": 5
}
